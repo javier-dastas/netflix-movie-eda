{
 "cells": [
  {
   "cell_type": "markdown",
   "id": "5962b2cd-17bb-4ec9-b2d5-68537ca26860",
   "metadata": {},
   "source": [
    "# Investigating Netflix Movies : Exploratory Data Analysis (EDA)\n",
    "\n",
    "**Netflix**! What started in 1997 as a DVD rental service has since exploded into one of the largest entertainment and media companies.\n",
    "\n",
    "Given the large number of movies and series available on the platform, it is a perfect opportunity to flex your exploratory data analysis skills and dive into the entertainment industry.\n",
    "\n",
    "You work for a production company that specializes in nostalgic styles. You want to do some research on movies released in the 1990's. You'll delve into Netflix data and perform exploratory data analysis to better understand this awesome movie decade!\n",
    "\n",
    "You have been supplied with the dataset `netflix_data.csv`, along with the following table detailing the column names and descriptions. Feel free to experiment further after submitting!\n",
    "\n",
    "## DataSet Overview\n",
    "The dataset includes the following key columns:\n",
    "\n",
    "| Column | Description |\n",
    "|--------|-------------|\n",
    "| `show_id` | The ID of the show |\n",
    "| `type` | Type of show |\n",
    "| `title` | Title of the show |\n",
    "| `director` | Director of the show |\n",
    "| `cast` | Cast of the show |\n",
    "| `country` | Country of origin |\n",
    "| `date_added` | Date added to Netflix |\n",
    "| `release_year` | Year of Netflix release |\n",
    "| `duration` | Duration of the show in minutes |\n",
    "| `description` | Description of the show |\n",
    "| `genre` | Show genre |"
   ]
  },
  {
   "cell_type": "code",
   "execution_count": 3,
   "id": "1ebd361c-6457-49f2-b63f-69198388971e",
   "metadata": {},
   "outputs": [],
   "source": [
    "# Importing pandas and matplotlib\n",
    "import pandas as pd\n",
    "import matplotlib.pyplot as plt"
   ]
  },
  {
   "cell_type": "code",
   "execution_count": 4,
   "id": "320a3abc-8a36-4b2b-baaf-473325363a4d",
   "metadata": {
    "executionCancelledAt": null,
    "executionTime": 40,
    "lastExecutedAt": 1738509834208,
    "lastExecutedByKernel": "15c5da71-361d-424e-8e18-1d5e0d43a4b5",
    "lastScheduledRunId": null,
    "lastSuccessfullyExecutedCode": "# Importing pandas and matplotlib\nimport pandas as pd\nimport matplotlib.pyplot as plt\n\n# Read in the Netflix CSV as a DataFrame\nnetflix_df = pd.read_csv(\"netflix_data.csv\")"
   },
   "outputs": [],
   "source": [
    "# Read in the Netflix CSV as a DataFrame\n",
    "netflix_df = pd.read_csv(\"./dataset/netflix_data.csv\")"
   ]
  },
  {
   "cell_type": "code",
   "execution_count": 5,
   "id": "72658473-114f-49eb-bd4e-cc03c710834a",
   "metadata": {
    "executionCancelledAt": null,
    "executionTime": 58,
    "lastExecutedAt": 1738509834266,
    "lastExecutedByKernel": "15c5da71-361d-424e-8e18-1d5e0d43a4b5",
    "lastScheduledRunId": null,
    "lastSuccessfullyExecutedCode": "netflix_df.head()",
    "outputsMetadata": {
     "0": {
      "height": 550,
      "tableState": {
       "quickFilterText": ""
      },
      "type": "dataFrame"
     }
    }
   },
   "outputs": [
    {
     "data": {
      "text/html": [
       "<div>\n",
       "<style scoped>\n",
       "    .dataframe tbody tr th:only-of-type {\n",
       "        vertical-align: middle;\n",
       "    }\n",
       "\n",
       "    .dataframe tbody tr th {\n",
       "        vertical-align: top;\n",
       "    }\n",
       "\n",
       "    .dataframe thead th {\n",
       "        text-align: right;\n",
       "    }\n",
       "</style>\n",
       "<table border=\"1\" class=\"dataframe\">\n",
       "  <thead>\n",
       "    <tr style=\"text-align: right;\">\n",
       "      <th></th>\n",
       "      <th>show_id</th>\n",
       "      <th>type</th>\n",
       "      <th>title</th>\n",
       "      <th>director</th>\n",
       "      <th>cast</th>\n",
       "      <th>country</th>\n",
       "      <th>date_added</th>\n",
       "      <th>release_year</th>\n",
       "      <th>duration</th>\n",
       "      <th>description</th>\n",
       "      <th>genre</th>\n",
       "    </tr>\n",
       "  </thead>\n",
       "  <tbody>\n",
       "    <tr>\n",
       "      <th>0</th>\n",
       "      <td>s2</td>\n",
       "      <td>Movie</td>\n",
       "      <td>7:19</td>\n",
       "      <td>Jorge Michel Grau</td>\n",
       "      <td>Demián Bichir, Héctor Bonilla, Oscar Serrano, ...</td>\n",
       "      <td>Mexico</td>\n",
       "      <td>December 23, 2016</td>\n",
       "      <td>2016</td>\n",
       "      <td>93</td>\n",
       "      <td>After a devastating earthquake hits Mexico Cit...</td>\n",
       "      <td>Dramas</td>\n",
       "    </tr>\n",
       "    <tr>\n",
       "      <th>1</th>\n",
       "      <td>s3</td>\n",
       "      <td>Movie</td>\n",
       "      <td>23:59</td>\n",
       "      <td>Gilbert Chan</td>\n",
       "      <td>Tedd Chan, Stella Chung, Henley Hii, Lawrence ...</td>\n",
       "      <td>Singapore</td>\n",
       "      <td>December 20, 2018</td>\n",
       "      <td>2011</td>\n",
       "      <td>78</td>\n",
       "      <td>When an army recruit is found dead, his fellow...</td>\n",
       "      <td>Horror Movies</td>\n",
       "    </tr>\n",
       "    <tr>\n",
       "      <th>2</th>\n",
       "      <td>s4</td>\n",
       "      <td>Movie</td>\n",
       "      <td>9</td>\n",
       "      <td>Shane Acker</td>\n",
       "      <td>Elijah Wood, John C. Reilly, Jennifer Connelly...</td>\n",
       "      <td>United States</td>\n",
       "      <td>November 16, 2017</td>\n",
       "      <td>2009</td>\n",
       "      <td>80</td>\n",
       "      <td>In a postapocalyptic world, rag-doll robots hi...</td>\n",
       "      <td>Action</td>\n",
       "    </tr>\n",
       "    <tr>\n",
       "      <th>3</th>\n",
       "      <td>s5</td>\n",
       "      <td>Movie</td>\n",
       "      <td>21</td>\n",
       "      <td>Robert Luketic</td>\n",
       "      <td>Jim Sturgess, Kevin Spacey, Kate Bosworth, Aar...</td>\n",
       "      <td>United States</td>\n",
       "      <td>January 1, 2020</td>\n",
       "      <td>2008</td>\n",
       "      <td>123</td>\n",
       "      <td>A brilliant group of students become card-coun...</td>\n",
       "      <td>Dramas</td>\n",
       "    </tr>\n",
       "    <tr>\n",
       "      <th>4</th>\n",
       "      <td>s6</td>\n",
       "      <td>TV Show</td>\n",
       "      <td>46</td>\n",
       "      <td>Serdar Akar</td>\n",
       "      <td>Erdal Beşikçioğlu, Yasemin Allen, Melis Birkan...</td>\n",
       "      <td>Turkey</td>\n",
       "      <td>July 1, 2017</td>\n",
       "      <td>2016</td>\n",
       "      <td>1</td>\n",
       "      <td>A genetics professor experiments with a treatm...</td>\n",
       "      <td>International TV</td>\n",
       "    </tr>\n",
       "  </tbody>\n",
       "</table>\n",
       "</div>"
      ],
      "text/plain": [
       "  show_id     type  title           director  \\\n",
       "0      s2    Movie   7:19  Jorge Michel Grau   \n",
       "1      s3    Movie  23:59       Gilbert Chan   \n",
       "2      s4    Movie      9        Shane Acker   \n",
       "3      s5    Movie     21     Robert Luketic   \n",
       "4      s6  TV Show     46        Serdar Akar   \n",
       "\n",
       "                                                cast        country  \\\n",
       "0  Demián Bichir, Héctor Bonilla, Oscar Serrano, ...         Mexico   \n",
       "1  Tedd Chan, Stella Chung, Henley Hii, Lawrence ...      Singapore   \n",
       "2  Elijah Wood, John C. Reilly, Jennifer Connelly...  United States   \n",
       "3  Jim Sturgess, Kevin Spacey, Kate Bosworth, Aar...  United States   \n",
       "4  Erdal Beşikçioğlu, Yasemin Allen, Melis Birkan...         Turkey   \n",
       "\n",
       "          date_added  release_year  duration  \\\n",
       "0  December 23, 2016          2016        93   \n",
       "1  December 20, 2018          2011        78   \n",
       "2  November 16, 2017          2009        80   \n",
       "3    January 1, 2020          2008       123   \n",
       "4       July 1, 2017          2016         1   \n",
       "\n",
       "                                         description             genre  \n",
       "0  After a devastating earthquake hits Mexico Cit...            Dramas  \n",
       "1  When an army recruit is found dead, his fellow...     Horror Movies  \n",
       "2  In a postapocalyptic world, rag-doll robots hi...            Action  \n",
       "3  A brilliant group of students become card-coun...            Dramas  \n",
       "4  A genetics professor experiments with a treatm...  International TV  "
      ]
     },
     "execution_count": 5,
     "metadata": {},
     "output_type": "execute_result"
    }
   ],
   "source": [
    "netflix_df.head()"
   ]
  },
  {
   "cell_type": "code",
   "execution_count": 6,
   "id": "c45d74d0-67e3-4928-af2a-3bde41cacaa8",
   "metadata": {
    "executionCancelledAt": null,
    "executionTime": 60,
    "lastExecutedAt": 1738509834326,
    "lastExecutedByKernel": "15c5da71-361d-424e-8e18-1d5e0d43a4b5",
    "lastScheduledRunId": null,
    "lastSuccessfullyExecutedCode": "netflix_df.info()",
    "outputsMetadata": {
     "0": {
      "height": 395,
      "type": "stream"
     }
    }
   },
   "outputs": [
    {
     "name": "stdout",
     "output_type": "stream",
     "text": [
      "<class 'pandas.core.frame.DataFrame'>\n",
      "RangeIndex: 4812 entries, 0 to 4811\n",
      "Data columns (total 11 columns):\n",
      " #   Column        Non-Null Count  Dtype \n",
      "---  ------        --------------  ----- \n",
      " 0   show_id       4812 non-null   object\n",
      " 1   type          4812 non-null   object\n",
      " 2   title         4812 non-null   object\n",
      " 3   director      4812 non-null   object\n",
      " 4   cast          4812 non-null   object\n",
      " 5   country       4812 non-null   object\n",
      " 6   date_added    4812 non-null   object\n",
      " 7   release_year  4812 non-null   int64 \n",
      " 8   duration      4812 non-null   int64 \n",
      " 9   description   4812 non-null   object\n",
      " 10  genre         4812 non-null   object\n",
      "dtypes: int64(2), object(9)\n",
      "memory usage: 413.7+ KB\n"
     ]
    }
   ],
   "source": [
    "netflix_df.info()"
   ]
  },
  {
   "cell_type": "code",
   "execution_count": 7,
   "id": "ece60075-3c97-4856-9701-28aa9a908dc1",
   "metadata": {
    "executionCancelledAt": null,
    "executionTime": 55,
    "lastExecutedAt": 1738509834434,
    "lastExecutedByKernel": "15c5da71-361d-424e-8e18-1d5e0d43a4b5",
    "lastScheduledRunId": null,
    "lastSuccessfullyExecutedCode": "netflix_df.isnull().sum()",
    "outputsMetadata": {
     "0": {
      "height": 50,
      "tableState": {
       "customFilter": {
        "const": {
         "type": "boolean",
         "valid": true,
         "value": true
        },
        "id": "2b27df17-b5c8-4ab0-980e-5b12a4ea9ac8",
        "nodeType": "const"
       },
       "quickFilterText": ""
      },
      "type": "dataFrame"
     }
    }
   },
   "outputs": [
    {
     "data": {
      "text/plain": [
       "show_id         0\n",
       "type            0\n",
       "title           0\n",
       "director        0\n",
       "cast            0\n",
       "country         0\n",
       "date_added      0\n",
       "release_year    0\n",
       "duration        0\n",
       "description     0\n",
       "genre           0\n",
       "dtype: int64"
      ]
     },
     "execution_count": 7,
     "metadata": {},
     "output_type": "execute_result"
    }
   ],
   "source": [
    "netflix_df.isnull().sum()"
   ]
  },
  {
   "cell_type": "code",
   "execution_count": 8,
   "id": "83163fa7-69b9-497c-adae-6ed77f793ccd",
   "metadata": {
    "executionCancelledAt": null,
    "executionTime": 52,
    "lastExecutedAt": 1738509834486,
    "lastExecutedByKernel": "15c5da71-361d-424e-8e18-1d5e0d43a4b5",
    "lastScheduledRunId": null,
    "lastSuccessfullyExecutedCode": "netflix_df.describe()",
    "outputsMetadata": {
     "0": {
      "height": 50,
      "tableState": {
       "customFilter": {
        "const": {
         "type": "boolean",
         "valid": true,
         "value": true
        },
        "id": "2b27df17-b5c8-4ab0-980e-5b12a4ea9ac8",
        "nodeType": "const"
       },
       "quickFilterText": ""
      },
      "type": "dataFrame"
     }
    }
   },
   "outputs": [
    {
     "data": {
      "text/html": [
       "<div>\n",
       "<style scoped>\n",
       "    .dataframe tbody tr th:only-of-type {\n",
       "        vertical-align: middle;\n",
       "    }\n",
       "\n",
       "    .dataframe tbody tr th {\n",
       "        vertical-align: top;\n",
       "    }\n",
       "\n",
       "    .dataframe thead th {\n",
       "        text-align: right;\n",
       "    }\n",
       "</style>\n",
       "<table border=\"1\" class=\"dataframe\">\n",
       "  <thead>\n",
       "    <tr style=\"text-align: right;\">\n",
       "      <th></th>\n",
       "      <th>release_year</th>\n",
       "      <th>duration</th>\n",
       "    </tr>\n",
       "  </thead>\n",
       "  <tbody>\n",
       "    <tr>\n",
       "      <th>count</th>\n",
       "      <td>4812.000000</td>\n",
       "      <td>4812.000000</td>\n",
       "    </tr>\n",
       "    <tr>\n",
       "      <th>mean</th>\n",
       "      <td>2012.711554</td>\n",
       "      <td>99.566708</td>\n",
       "    </tr>\n",
       "    <tr>\n",
       "      <th>std</th>\n",
       "      <td>9.517978</td>\n",
       "      <td>30.889305</td>\n",
       "    </tr>\n",
       "    <tr>\n",
       "      <th>min</th>\n",
       "      <td>1942.000000</td>\n",
       "      <td>1.000000</td>\n",
       "    </tr>\n",
       "    <tr>\n",
       "      <th>25%</th>\n",
       "      <td>2011.000000</td>\n",
       "      <td>88.000000</td>\n",
       "    </tr>\n",
       "    <tr>\n",
       "      <th>50%</th>\n",
       "      <td>2016.000000</td>\n",
       "      <td>99.000000</td>\n",
       "    </tr>\n",
       "    <tr>\n",
       "      <th>75%</th>\n",
       "      <td>2018.000000</td>\n",
       "      <td>116.000000</td>\n",
       "    </tr>\n",
       "    <tr>\n",
       "      <th>max</th>\n",
       "      <td>2021.000000</td>\n",
       "      <td>253.000000</td>\n",
       "    </tr>\n",
       "  </tbody>\n",
       "</table>\n",
       "</div>"
      ],
      "text/plain": [
       "       release_year     duration\n",
       "count   4812.000000  4812.000000\n",
       "mean    2012.711554    99.566708\n",
       "std        9.517978    30.889305\n",
       "min     1942.000000     1.000000\n",
       "25%     2011.000000    88.000000\n",
       "50%     2016.000000    99.000000\n",
       "75%     2018.000000   116.000000\n",
       "max     2021.000000   253.000000"
      ]
     },
     "execution_count": 8,
     "metadata": {},
     "output_type": "execute_result"
    }
   ],
   "source": [
    "netflix_df.describe()"
   ]
  },
  {
   "cell_type": "code",
   "execution_count": 9,
   "id": "b6c41d81-3b26-45c4-8cc0-af0171cdc1b5",
   "metadata": {
    "executionCancelledAt": null,
    "executionTime": 410,
    "lastExecutedAt": 1738509834896,
    "lastExecutedByKernel": "15c5da71-361d-424e-8e18-1d5e0d43a4b5",
    "lastScheduledRunId": null,
    "lastSuccessfullyExecutedCode": "netflix_df.hist()"
   },
   "outputs": [
    {
     "data": {
      "text/plain": [
       "array([[<Axes: title={'center': 'release_year'}>,\n",
       "        <Axes: title={'center': 'duration'}>]], dtype=object)"
      ]
     },
     "execution_count": 9,
     "metadata": {},
     "output_type": "execute_result"
    },
    {
     "data": {
      "image/png": "[encoded data removed]",
      "text/plain": [
       "<Figure size 640x480 with 2 Axes>"
      ]
     },
     "metadata": {},
     "output_type": "display_data"
    }
   ],
   "source": [
    "netflix_df.hist()"
   ]
  },
  {
   "cell_type": "code",
   "execution_count": 10,
   "id": "11cfadc7-7b91-4928-83e1-c1f4e4e84391",
   "metadata": {
    "executionCancelledAt": null,
    "executionTime": 55,
    "lastExecutedAt": 1738509834951,
    "lastExecutedByKernel": "15c5da71-361d-424e-8e18-1d5e0d43a4b5",
    "lastScheduledRunId": null,
    "lastSuccessfullyExecutedCode": "netflix_df.describe(include=['object'])",
    "outputsMetadata": {
     "0": {
      "height": 50,
      "tableState": {
       "customFilter": {
        "const": {
         "type": "boolean",
         "valid": true,
         "value": true
        },
        "id": "d86cd770-816b-4abd-9353-bf0b40274cdc",
        "nodeType": "const"
       },
       "quickFilterText": ""
      },
      "type": "dataFrame"
     }
    }
   },
   "outputs": [
    {
     "data": {
      "text/html": [
       "<div>\n",
       "<style scoped>\n",
       "    .dataframe tbody tr th:only-of-type {\n",
       "        vertical-align: middle;\n",
       "    }\n",
       "\n",
       "    .dataframe tbody tr th {\n",
       "        vertical-align: top;\n",
       "    }\n",
       "\n",
       "    .dataframe thead th {\n",
       "        text-align: right;\n",
       "    }\n",
       "</style>\n",
       "<table border=\"1\" class=\"dataframe\">\n",
       "  <thead>\n",
       "    <tr style=\"text-align: right;\">\n",
       "      <th></th>\n",
       "      <th>show_id</th>\n",
       "      <th>type</th>\n",
       "      <th>title</th>\n",
       "      <th>director</th>\n",
       "      <th>cast</th>\n",
       "      <th>country</th>\n",
       "      <th>date_added</th>\n",
       "      <th>description</th>\n",
       "      <th>genre</th>\n",
       "    </tr>\n",
       "  </thead>\n",
       "  <tbody>\n",
       "    <tr>\n",
       "      <th>count</th>\n",
       "      <td>4812</td>\n",
       "      <td>4812</td>\n",
       "      <td>4812</td>\n",
       "      <td>4812</td>\n",
       "      <td>4812</td>\n",
       "      <td>4812</td>\n",
       "      <td>4812</td>\n",
       "      <td>4812</td>\n",
       "      <td>4812</td>\n",
       "    </tr>\n",
       "    <tr>\n",
       "      <th>unique</th>\n",
       "      <td>4812</td>\n",
       "      <td>2</td>\n",
       "      <td>4812</td>\n",
       "      <td>3615</td>\n",
       "      <td>4690</td>\n",
       "      <td>72</td>\n",
       "      <td>1292</td>\n",
       "      <td>4807</td>\n",
       "      <td>31</td>\n",
       "    </tr>\n",
       "    <tr>\n",
       "      <th>top</th>\n",
       "      <td>s2</td>\n",
       "      <td>Movie</td>\n",
       "      <td>7:19</td>\n",
       "      <td>Raúl Campos, Jan Suter</td>\n",
       "      <td>Samuel West</td>\n",
       "      <td>United States</td>\n",
       "      <td>January 1, 2020</td>\n",
       "      <td>A scheming matriarch plots to cut off her disa...</td>\n",
       "      <td>Dramas</td>\n",
       "    </tr>\n",
       "    <tr>\n",
       "      <th>freq</th>\n",
       "      <td>1</td>\n",
       "      <td>4677</td>\n",
       "      <td>1</td>\n",
       "      <td>18</td>\n",
       "      <td>10</td>\n",
       "      <td>1886</td>\n",
       "      <td>100</td>\n",
       "      <td>2</td>\n",
       "      <td>1343</td>\n",
       "    </tr>\n",
       "  </tbody>\n",
       "</table>\n",
       "</div>"
      ],
      "text/plain": [
       "       show_id   type title                director         cast  \\\n",
       "count     4812   4812  4812                    4812         4812   \n",
       "unique    4812      2  4812                    3615         4690   \n",
       "top         s2  Movie  7:19  Raúl Campos, Jan Suter  Samuel West   \n",
       "freq         1   4677     1                      18           10   \n",
       "\n",
       "              country       date_added  \\\n",
       "count            4812             4812   \n",
       "unique             72             1292   \n",
       "top     United States  January 1, 2020   \n",
       "freq             1886              100   \n",
       "\n",
       "                                              description   genre  \n",
       "count                                                4812    4812  \n",
       "unique                                               4807      31  \n",
       "top     A scheming matriarch plots to cut off her disa...  Dramas  \n",
       "freq                                                    2    1343  "
      ]
     },
     "execution_count": 10,
     "metadata": {},
     "output_type": "execute_result"
    }
   ],
   "source": [
    "netflix_df.describe(include=['object'])"
   ]
  },
  {
   "cell_type": "markdown",
   "id": "0fba3b81-ead5-49c6-b5b6-d17d7f5c0640",
   "metadata": {},
   "source": [
    "## Data Analysis Preview"
   ]
  },
  {
   "cell_type": "code",
   "execution_count": 12,
   "id": "0a82d4e6-ab4a-4c35-8963-0b1570f168b1",
   "metadata": {
    "executionCancelledAt": null,
    "executionTime": 51,
    "lastExecutedAt": 1738509835002,
    "lastExecutedByKernel": "15c5da71-361d-424e-8e18-1d5e0d43a4b5",
    "lastScheduledRunId": null,
    "lastSuccessfullyExecutedCode": "# Filter the DataSet to get only the 1990s movies\nmovies_1990s_df = netflix_df.query(\"release_year >= 1990 & release_year < 2000\")\nmovies_1990s = movies_1990s_df[['title','duration']]\n\n# Find the most frequent duration (mode)\nduration = int(movies_1990s['duration'].mode()[0])\n\nprint(f\"The most frequent movie duration in the 1990s is: {duration} minutes.\")",
    "outputsMetadata": {
     "0": {
      "height": 38,
      "type": "stream"
     },
     "1": {
      "height": 500,
      "tableState": {
       "quickFilterText": ""
      },
      "type": "dataFrame"
     }
    }
   },
   "outputs": [
    {
     "name": "stdout",
     "output_type": "stream",
     "text": [
      "The most frequent movie duration in the 1990s is: 94 minutes.\n"
     ]
    }
   ],
   "source": [
    "# What were the most common movie durations during the 1990s?\n",
    "# Filter the DataSet to get only the 1990s movies\n",
    "movies_1990s_df = netflix_df.query(\"release_year >= 1990 & release_year < 2000\")\n",
    "movies_1990s = movies_1990s_df[['title','duration']]\n",
    "\n",
    "# Find the most frequent duration (mode)\n",
    "duration = int(movies_1990s['duration'].mode()[0])\n",
    "\n",
    "print(f\"The most frequent movie duration in the 1990s is: {duration} minutes.\")"
   ]
  },
  {
   "cell_type": "code",
   "execution_count": 31,
   "id": "1188a8ad-8250-403c-a4fd-0d7afc69bc59",
   "metadata": {
    "executionCancelledAt": null,
    "executionTime": 52,
    "lastExecutedAt": 1738509835054,
    "lastExecutedByKernel": "15c5da71-361d-424e-8e18-1d5e0d43a4b5",
    "lastScheduledRunId": null,
    "lastSuccessfullyExecutedCode": "# Filter the DataSet to get only the 1990s movies and genre = 'Action'\nshort_action_movies_1990s_df = netflix_df.query(\"(release_year >= 1990 & release_year < 2000) & genre == 'Action' & duration < 90\")\n\n# Count the number of short action movies released in the 1990s\nshort_movie_count = short_action_movies_1990s_df['duration'].count()\n\nprint(f\"Count the number of short action movies released in the 1990s: {short_movie_count}\")",
    "outputsMetadata": {
     "0": {
      "height": 38,
      "type": "stream"
     }
    }
   },
   "outputs": [
    {
     "name": "stdout",
     "output_type": "stream",
     "text": [
      "Number of short 'action' movies released in the 1990s: 7\n"
     ]
    }
   ],
   "source": [
    "# Number of short action movies released in the 1990s (duration < 90 minutes)?\n",
    "\n",
    "# Filter the DataSet to get only the 1990s movies and genre = 'Action'\n",
    "short_action_movies_1990s_df = netflix_df.query(\"(release_year >= 1990 & release_year < 2000) & genre == 'Action' & duration < 90\")\n",
    "\n",
    "# Count the number of short action movies released in the 1990s\n",
    "short_movie_count = short_action_movies_1990s_df['duration'].count()\n",
    "\n",
    "print(f\"Number of short 'action' movies released in the 1990s: {short_movie_count}\")"
   ]
  },
  {
   "cell_type": "code",
   "execution_count": 39,
   "id": "25284810-6048-44e1-9095-881e41f83da5",
   "metadata": {},
   "outputs": [
    {
     "name": "stdout",
     "output_type": "stream",
     "text": [
      "Top 5 genres with the most movies in the 1990s:\n",
      "genre\n",
      "Action            48\n",
      "Dramas            44\n",
      "Comedies          40\n",
      "Children          15\n",
      "Classic Movies    15\n",
      "Name: count, dtype: int64\n"
     ]
    },
    {
     "data": {
      "image/png": "[encoded data removed]",
      "text/plain": [
       "<Figure size 800x600 with 1 Axes>"
      ]
     },
     "metadata": {},
     "output_type": "display_data"
    }
   ],
   "source": [
    "# Which genres dominated the decade (1990s) on Netflix?\n",
    "movies_1990s_df\n",
    "# Filter genres with sufficient representation to avoid outliers\n",
    "top_5_genres = movies_1990s_df['genre'].value_counts().head(5)\n",
    "\n",
    "print(\"Top 5 genres with the most movies in the 1990s:\")\n",
    "print(top_5_genres)\n",
    "\n",
    "# Plotting the top 5 genres\n",
    "plt.figure(figsize=(8, 6))\n",
    "top_5_genres.plot(kind='bar', color='dodgerblue')\n",
    "plt.title('Top 5 Movie Genres in the 1990s')\n",
    "plt.xlabel('Genre')\n",
    "plt.ylabel('Number of Movies')\n",
    "plt.xticks(rotation=45)\n",
    "plt.show()"
   ]
  },
  {
   "cell_type": "code",
   "execution_count": 51,
   "id": "1d4917de-18e4-4f44-aa23-00921c03b53b",
   "metadata": {},
   "outputs": [
    {
     "name": "stdout",
     "output_type": "stream",
     "text": [
      "Content Quantity Across Decades:\n"
     ]
    },
    {
     "data": {
      "text/plain": [
       "release_year\n",
       "1940       5\n",
       "1950      11\n",
       "1960      20\n",
       "1970      60\n",
       "1980      95\n",
       "1990     184\n",
       "2000     593\n",
       "2010    3461\n",
       "2020     383\n",
       "Name: title, dtype: int64"
      ]
     },
     "metadata": {},
     "output_type": "display_data"
    },
    {
     "data": {
      "image/png": "[encoded data removed]",
      "text/plain": [
       "<Figure size 1000x600 with 1 Axes>"
      ]
     },
     "metadata": {},
     "output_type": "display_data"
    }
   ],
   "source": [
    "# How did the 1990s compare to other decades in terms of content quantity and diversity?\n",
    "# Compare content quantity across decades using a bar plot\n",
    "decades = (netflix_df['release_year'] // 10) * 10 # Analyze content quantity per decade (split into 10-year periods)\n",
    "content_per_decade = netflix_df.groupby(decades)['title'].count()\n",
    "\n",
    "print('Content Quantity Across Decades:') \n",
    "display(content_per_decade)\n",
    "\n",
    "plt.figure(figsize=(10, 6))\n",
    "content_per_decade.plot(kind='bar', color='coral', title='Content Quantity Across Decades')\n",
    "plt.xlabel('Decade')\n",
    "plt.ylabel('Number of Movies')\n",
    "plt.xticks(rotation=45)\n",
    "plt.show()"
   ]
  },
  {
   "cell_type": "markdown",
   "id": "e111f998-fb2e-46c2-a738-e6de1e226161",
   "metadata": {},
   "source": [
    "## Analysis of Netflix Movie Trends in the 1990s and Beyond\n",
    "### What were the most common movie durations during the 1990s?\n",
    "The 1990s were a notable decade for movie production, particularly in terms of variety and duration trends. The most frequent movie duration during this period was 94 minutes, indicating a standard length suitable for mainstream audiences without being too lengthy or too short. Interestingly, despite action movies being the dominant genre, there were only 7 short action movies (with durations under 90 minutes) released during this time, suggesting that most action films leaned toward longer runtimes.\n",
    "\n",
    "### Number of short action movies released in the 1990s (duration < 90 minutes)?\n",
    "The Top 5 genres of the 1990s highlight the prominence of Action (48 movies), followed closely by Dramas (44) and Comedies (40). This balance between high-energy action and character-driven storytelling indicates a broad appeal across different audience segments. Meanwhile, Children’s movies (15) and Classic Movies (15) held significant yet smaller shares, reflecting targeted productions aimed at younger and nostalgic audiences.\n",
    "\n",
    "### How did the 1990s compare to other decades in terms of content quantity and diversity?\n",
    "Overall, the 1990s laid the groundwork for the rapid content expansion seen in the following decades, with action, drama, and comedy establishing themselves as cornerstone genres.\n",
    "\n",
    "### Which genres dominated the decade on Netflix?\n",
    "Looking at the content quantity across decades, the 1990s saw a significant increase in the number of movies compared to previous decades, with 184 movies released. This growth marks a transition from the slower production of earlier decades such as the 1940s (5 movies) and 1970s (60 movies). However, the true explosion in content began in the 2000s (593 movies) and reached its peak in the 2010s (3,461 movies), likely driven by advancements in digital production, streaming platforms, and broader access to international content."
   ]
  }
 ],
 "metadata": {
  "colab": {
   "name": "Welcome to DataCamp Workspaces.ipynb",
   "provenance": []
  },
  "editor": "DataLab",
  "kernelspec": {
   "display_name": "Python (base)",
   "language": "python",
   "name": "base"
  },
  "language_info": {
   "codemirror_mode": {
    "name": "ipython",
    "version": 3
   },
   "file_extension": ".py",
   "mimetype": "text/x-python",
   "name": "python",
   "nbconvert_exporter": "python",
   "pygments_lexer": "ipython3",
   "version": "3.12.2"
  }
 },
 "nbformat": 4,
 "nbformat_minor": 5
}
